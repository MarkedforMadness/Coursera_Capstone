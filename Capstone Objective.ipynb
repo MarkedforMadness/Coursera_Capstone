{
 "cells": [
  {
   "cell_type": "markdown",
   "metadata": {},
   "source": [
    "### This is the description of what my capstone project will be based on."
   ]
  },
  {
   "cell_type": "markdown",
   "metadata": {
    "tags": []
   },
   "source": [
    "#### Introduction/Business Problem"
   ]
  },
  {
   "cell_type": "markdown",
   "metadata": {},
   "source": [
    "##### What is an issue that effects stakeholders in a for profit company, that has the possibilty of being solved through the use of a location api such as FourSquare?"
   ]
  },
  {
   "cell_type": "markdown",
   "metadata": {},
   "source": [
    "A corporation is looking to expand its consumer market but hasn't decided where to open?\n",
    "The company wants to look towards moving into other countries; Where would be a better market for consumers of vegan food be located?\n",
    "The options are Paris, New York and Stockholm."
   ]
  },
  {
   "cell_type": "markdown",
   "metadata": {},
   "source": [
    "#### Data/Problem Solving"
   ]
  },
  {
   "cell_type": "markdown",
   "metadata": {},
   "source": [
    "##### What Data would we use to determine the best location to build a new headquarters? How would we make the deicision?"
   ]
  },
  {
   "cell_type": "markdown",
   "metadata": {},
   "source": [
    "We will locate the Foursquare data for these cities, find out which has a more accepting market for the company's vegan products, and scope for competitors.\n",
    "It may come in handy to get an estimate of how many vegans are in these cities, which could be done by social media user data."
   ]
  }
 ],
 "metadata": {
  "kernelspec": {
   "display_name": "Python 3",
   "language": "python",
   "name": "python3"
  },
  "language_info": {
   "codemirror_mode": {
    "name": "ipython",
    "version": 3
   },
   "file_extension": ".py",
   "mimetype": "text/x-python",
   "name": "python",
   "nbconvert_exporter": "python",
   "pygments_lexer": "ipython3",
   "version": "3.9.1"
  }
 },
 "nbformat": 4,
 "nbformat_minor": 4
}
